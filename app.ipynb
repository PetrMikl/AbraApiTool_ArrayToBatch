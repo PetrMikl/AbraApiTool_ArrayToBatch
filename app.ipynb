{
 "cells": [
  {
   "cell_type": "code",
   "execution_count": 18,
   "metadata": {},
   "outputs": [],
   "source": [
    "import json\n",
    "f = open(\"input_array.json\", 'r', encoding='utf-8')\n",
    "json_original = json.load(f)\n",
    "\n",
    "\n",
    "#f = open(\"input_array.json\")\n",
    "#json_original = f.readlines()"
   ]
  },
  {
   "cell_type": "code",
   "execution_count": 19,
   "metadata": {},
   "outputs": [],
   "source": [
    "json_new = {\"items\":[]}\n",
    "json_content =  {\n",
    "            \"type\": \"create\",\n",
    "            \"id\": \"\",\n",
    "            \"data\": {\n",
    "                \"class_id\": \"Accounts\",\n",
    "                \"object_data\": {\n",
    "                }\n",
    "            }\n",
    "        }\n",
    "\n",
    "j = 0    \n",
    "for item in json_original:    \n",
    "    #json_new.update(json_content)\n",
    "    json_new['items'].append(json_content)\n",
    "    json_new['items'][j]['id'] = 'id'+str(j)\n",
    "    json_new['items'][j]['object_data'] = item\n",
    "    \n",
    "    #json_new[j]['Data_object'] = item    \n",
    "    j+=1\n"
   ]
  },
  {
   "cell_type": "code",
   "execution_count": 20,
   "metadata": {},
   "outputs": [],
   "source": [
    "json_data = json.dumps(json_new)\n",
    "\n",
    "#print(json_data)\n",
    "\n",
    "f = open('output_batch.json', \"w\")\n",
    "f.write(json_data)\n",
    "f.close()"
   ]
  }
 ],
 "metadata": {
  "kernelspec": {
   "display_name": "Python 3.9.13 64-bit",
   "language": "python",
   "name": "python3"
  },
  "language_info": {
   "codemirror_mode": {
    "name": "ipython",
    "version": 3
   },
   "file_extension": ".py",
   "mimetype": "text/x-python",
   "name": "python",
   "nbconvert_exporter": "python",
   "pygments_lexer": "ipython3",
   "version": "3.9.13"
  },
  "orig_nbformat": 4,
  "vscode": {
   "interpreter": {
    "hash": "51404d6f1a9a4fa6e8089a7c53fc60012dcc8430d34e6b40d16ad8c7df9c8f63"
   }
  }
 },
 "nbformat": 4,
 "nbformat_minor": 2
}
